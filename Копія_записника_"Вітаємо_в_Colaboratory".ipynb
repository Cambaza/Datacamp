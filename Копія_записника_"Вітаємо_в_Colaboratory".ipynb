{
  "nbformat": 4,
  "nbformat_minor": 0,
  "metadata": {
    "colab": {
      "name": "Копія записника \"Вітаємо в Colaboratory\"",
      "provenance": [],
      "collapsed_sections": [],
      "include_colab_link": true
    },
    "kernelspec": {
      "display_name": "Python 3",
      "name": "python3"
    }
  },
  "cells": [
    {
      "cell_type": "markdown",
      "metadata": {
        "id": "view-in-github",
        "colab_type": "text"
      },
      "source": [
        "<a href=\"https://colab.research.google.com/github/Cambaza/Datacamp/blob/master/%D0%9A%D0%BE%D0%BF%D1%96%D1%8F_%D0%B7%D0%B0%D0%BF%D0%B8%D1%81%D0%BD%D0%B8%D0%BA%D0%B0_%22%D0%92%D1%96%D1%82%D0%B0%D1%94%D0%BC%D0%BE_%D0%B2_Colaboratory%22.ipynb\" target=\"_parent\"><img src=\"https://colab.research.google.com/assets/colab-badge.svg\" alt=\"Open In Colab\"/></a>"
      ]
    },
    {
      "cell_type": "markdown",
      "metadata": {
        "id": "5fCEDCU_qrC0"
      },
      "source": [
        "<p><img alt=\"Colaboratory logo\" height=\"45px\" src=\"/img/colab_favicon.ico\" align=\"left\" hspace=\"10px\" vspace=\"0px\"></p>\n",
        "\n",
        "<h1>Що таке Colaboratory?</h1>\n",
        "\n",
        "Colaboratory &#40;або Colab&#41; дає змогу писати й виконувати код Python у веб-переглядачі \n",
        "- без попередніх налаштувань\n",
        "- з безкоштовним доступом до графічних процесорів\n",
        "- з легким спільним доступом\n",
        "\n",
        "Якщо ви <strong>студент</strong>, <strong>спеціаліст з обробки даних</strong> або <strong>дослідник у сфері штучного інтелекту</strong>, Colab може полегшити вам роботу. Щоб дізнатися більше, перегляньте відео <a href=\"https://www.youtube.com/watch?v=inN8seMm7UI\">Про Colab</a> або відразу почніть роботу."
      ]
    },
    {
      "cell_type": "markdown",
      "metadata": {
        "id": "GJBs_flRovLc"
      },
      "source": [
        "## <strong>Початок роботи</strong>\n",
        "\n",
        "Документ, який ви читаєте, – це не статична веб-сторінка, а інтерактивне середовище під назвою <strong>записник Colab</strong>, яке дає змогу писати й виконувати код.\n",
        "\n",
        "Наприклад, ось <strong>клітинка з кодом</strong> із коротким скриптом Python, який обчислює значення, зберігає його в змінній і друкує результат."
      ]
    },
    {
      "cell_type": "code",
      "metadata": {
        "colab": {
          "base_uri": "https://localhost:8080/"
        },
        "id": "gJr_9dXGpJ05",
        "outputId": "82ded31d-bff6-4f09-c4c2-7ab159e82ec1"
      },
      "source": [
        "seconds_in_a_day = 24 * 60 * 60\n",
        "seconds_in_a_day"
      ],
      "execution_count": 1,
      "outputs": [
        {
          "output_type": "execute_result",
          "data": {
            "text/plain": [
              "86400"
            ]
          },
          "metadata": {
            "tags": []
          },
          "execution_count": 1
        }
      ]
    },
    {
      "cell_type": "markdown",
      "metadata": {
        "id": "2fhs6GZ4qFMx"
      },
      "source": [
        "Щоб виконати код у клітинці вище, виділіть її, а потім натисніть кнопку \"Відтворити\" ліворуч від коду або скористайтеся комбінацією клавіш Command/Ctrl+Enter. Щоб змінити код, просто натисніть клітинку й почніть редагувати.\n",
        "\n",
        "Змінні, які ви визначаєте в одній клітинці, потім можна використовувати в інших клітинках:"
      ]
    },
    {
      "cell_type": "code",
      "metadata": {
        "colab": {
          "base_uri": "https://localhost:8080/"
        },
        "id": "-gE-Ez1qtyIA",
        "outputId": "441e8756-3699-4b37-f515-bfeea1b5ea4b"
      },
      "source": [
        "seconds_in_a_week = 7 * seconds_in_a_day + 2\n",
        "seconds_in_a_week"
      ],
      "execution_count": 2,
      "outputs": [
        {
          "output_type": "execute_result",
          "data": {
            "text/plain": [
              "604802"
            ]
          },
          "metadata": {
            "tags": []
          },
          "execution_count": 2
        }
      ]
    },
    {
      "cell_type": "markdown",
      "metadata": {
        "id": "lSrWNr3MuFUS"
      },
      "source": [
        "У записниках Colab можна поєднувати <strong>виконуваний код</strong> і <strong>форматований текст</strong> в одному документі, а також додавати <strong>зображення</strong>, <strong>HTML</strong>, <strong>LaTeX</strong> тощо. Коли ви створюєте власні записники Colab, вони зберігаються в обліковому записі Google Диска. Ви можете надавати доступ до записників Colab співробітникам або друзям – так вони зможуть коментувати або навіть редагувати їх. Щоб дізнатися більше, прочитайте цю статтю <a href=\"/notebooks/basic_features_overview.ipynb\">про Colab</a>. Створити новий записник Colab можна в меню \"Файл\" вище або за <a href=\"http://colab.research.google.com#create=true\">цим посиланням</a>.\n",
        "\n",
        "Записники Colab – це записники Jupyter, які розміщуються в Colab. Докладніше про проект Jupyter можна дізнатися на сайті <a href=\"https://www.jupyter.org\">jupyter.org</a>."
      ]
    },
    {
      "cell_type": "markdown",
      "metadata": {
        "id": "UdRyKR44dcNI"
      },
      "source": [
        "## Наука про дані\n",
        "\n",
        "З Colab ви отримуєте доступ до всіх популярних бібліотек Python для аналізу й візуалізації даних. У наведеній нижче клітинці з кодом використовуються бібліотеки <strong>numpy</strong> &#40;дає змогу генерувати довільні дані&#41; і <strong>matplotlib</strong> &#40;для їх візуалізації&#41;. Щоб змінити код, просто натисніть клітинку й почніть редагувати."
      ]
    },
    {
      "cell_type": "code",
      "metadata": {
        "colab": {
          "base_uri": "https://localhost:8080/",
          "height": 281
        },
        "id": "C4HZx7Gndbrh",
        "outputId": "dfabc9f1-8dc1-4d21-e4d2-1f3992eb635f"
      },
      "source": [
        "import numpy as np\n",
        "from matplotlib import pyplot as plt\n",
        "\n",
        "ys = 200 + np.random.randn(100)\n",
        "x = [x for x in range(len(ys))]\n",
        "\n",
        "plt.plot(x, ys, '-')\n",
        "plt.fill_between(x, ys, 195, where=(ys > 195), facecolor='g', alpha=0.6)\n",
        "\n",
        "plt.title(\"Sample Visualization\")\n",
        "plt.show()"
      ],
      "execution_count": 3,
      "outputs": [
        {
          "output_type": "display_data",
          "data": {
            "image/png": "[encoded data removed]",
            "text/plain": [
              "<Figure size 432x288 with 1 Axes>"
            ]
          },
          "metadata": {
            "tags": [],
            "needs_background": "light"
          }
        }
      ]
    },
    {
      "cell_type": "markdown",
      "metadata": {
        "id": "4_kCnsPUqS6o"
      },
      "source": [
        "Ви можете імпортувати власні дані в записники Colab з облікового запису Google Диска &#40;зокрема, з електронних таблиць&#41;, а також із GitHub і багатьох інших джерел. Щоб дізнатися більше про імпорт даних і те, як Colab можна використовувати в науці про дані, перейдіть за посиланнями нижче в розділі <a href=\"#working-with-data\">Робота з даними</a>."
      ]
    },
    {
      "cell_type": "markdown",
      "metadata": {
        "id": "OwuxHmxllTwN"
      },
      "source": [
        "## Машинне навчання\n",
        "\n",
        "У Colab можна імпортувати набір даних зображень, навчати на їх основі класифікатор і оцінювати модель за допомогою всього <a href=\"https://colab.research.google.com/github/tensorflow/docs/blob/master/site/en/tutorials/quickstart/beginner.ipynb\">кількох рядків коду</a>. Записники Colab виконують код на хмарних серверах Google, тобто ви можете застосувати можливості апаратного забезпечення Google, зокрема <a href=\"#using-accelerated-hardware\">графічних і тензорних процесорів</a>, незалежно від потужності вашого комп'ютера. Вам потрібен лише веб-переглядач."
      ]
    },
    {
      "cell_type": "markdown",
      "metadata": {
        "id": "ufxBm1yRnruN"
      },
      "source": [
        "Colab широко застосовується у сфері машинного навчання для таких завдань:\n",
        "- початок роботи з TensorFlow;\n",
        "- розробка й навчання нейронних мереж;\n",
        "- експерименти з тензорними процесорами;\n",
        "- поширення досліджень у сфері ШІ;\n",
        "- створення навчальних посібників.\n",
        "\n",
        "Приклади записників Colab із застосуванням машинного навчання можна переглянути <a href=\"#machine-learning-examples\">тут</a>."
      ]
    },
    {
      "cell_type": "markdown",
      "metadata": {
        "id": "-Rh3-Vt9Nev9"
      },
      "source": [
        "## Інші ресурси\n",
        "\n",
        "### Робота із записниками в Colab\n",
        "- [Огляд Colaboratory](/notebooks/basic_features_overview.ipynb)\n",
        "- [Посібник із розмітки](/notebooks/markdown_guide.ipynb)\n",
        "- [Імпорт бібліотек і встановлення залежностей](/notebooks/snippets/importing_libraries.ipynb)\n",
        "- [Зберігання й завантаження записників у GitHub](https://colab.research.google.com/github/googlecolab/colabtools/blob/master/notebooks/colab-github-demo.ipynb)\n",
        "- [Інтерактивні форми](/notebooks/forms.ipynb)\n",
        "- [Інтерактивні віджети](/notebooks/widgets.ipynb)\n",
        "- <img src=\"/img/new.png\" height=\"20px\" align=\"left\" hspace=\"4px\" alt=\"New\"></img>\n",
        " [TensorFlow 2 в Colab](/notebooks/tensorflow_version.ipynb)\n",
        "\n",
        "<a name=\"working-with-data\"></a>\n",
        "### Робота з даними\n",
        "- [Завантаження даних: Диск, Таблиці та Google Cloud Storage](/notebooks/io.ipynb) \n",
        "- [Діаграми: візуалізація даних](/notebooks/charts.ipynb)\n",
        "- [Початок роботи з BigQuery](/notebooks/bigquery.ipynb)\n",
        "\n",
        "### Інтенсивний курс із машинного навчання\n",
        "Ось кілька записників з онлайн-курсу Google про машинне навчання. Щоб переглянути інші, перейдіть на <a href=\"https://developers.google.com/machine-learning/crash-course/\">веб-сайт курсу</a>.\n",
        "- [Загальні відомості про Pandas](/notebooks/mlcc/intro_to_pandas.ipynb)\n",
        "- [Поняття Tensorflow](/notebooks/mlcc/tensorflow_programming_concepts.ipynb)\n",
        "- [Початок роботи з TensorFlow](/notebooks/mlcc/first_steps_with_tensor_flow.ipynb)\n",
        "- [Загальні відомості про нейронні мережі](/notebooks/mlcc/intro_to_neural_nets.ipynb)\n",
        "- [Загальні відомості про неповні дані та вбудовування](/notebooks/mlcc/intro_to_sparse_data_and_embeddings.ipynb)\n",
        "\n",
        "<a name=\"using-accelerated-hardware\"></a>\n",
        "### Використання апаратного забезпечення з прискоренням\n",
        "- [TensorFlow з графічними процесорами](/notebooks/gpu.ipynb)\n",
        "- [TensorFlow з тензорними процесорами](/notebooks/tpu.ipynb)"
      ]
    },
    {
      "cell_type": "markdown",
      "metadata": {
        "id": "P-H6Lw1vyNNd"
      },
      "source": [
        "<a name=\"machine-learning-examples\"></a>\n",
        "\n",
        "## Приклади машинного навчання\n",
        "\n",
        "Щоб ознайомитися з детальними прикладами аналізів інтерактивного машинного навчання, які дає змогу проводити Colaboratory, перегляньте ці навчальні посібники щодо використання моделей із <a href=\"https://tfhub.dev\">TensorFlow Hub</a>.\n",
        "\n",
        "Кілька прикладів:\n",
        "\n",
        "- <a href=\"https://tensorflow.org/hub/tutorials/tf2_image_retraining\">Навчання класифікатора зображень</a>: створіть модель Keras на основі даних попередньо натренованого класифікатора, щоб розрізняти квіти.\n",
        "- <a href=\"https://tensorflow.org/hub/tutorials/tf2_text_classification\">Класифікація тексту</a>: розділяйте відгуки про фільми на IMDB на <em>позитивні</em> та <em>негативні</em>.\n",
        "- <a href=\"https://tensorflow.org/hub/tutorials/tf2_arbitrary_image_stylization\">Перенесення стилю</a>: переносьте стилі між зображеннями за допомогою глибинного навчання.\n",
        "- <a href=\"https://tensorflow.org/hub/tutorials/retrieval_with_tf_hub_universal_encoder_qa\">Відповіді на запитання про багатомовний універсальний кодер речень</a>: відповідайте на запитання з набору даних SQuAD за допомогою моделі машинного навчання.\n",
        "- <a href=\"https://tensorflow.org/hub/tutorials/tweening_conv3d\">Інтерполяція відео</a>: прогнозуйте, що відбуватиметься у відео між першим і останнім кадрами.\n"
      ]
    }
  ]
}